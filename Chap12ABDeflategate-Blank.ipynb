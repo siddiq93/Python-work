{
 "cells": [
  {
   "cell_type": "code",
   "execution_count": 17,
   "metadata": {},
   "outputs": [],
   "source": [
    "from datascience import *\n",
    "import numpy as np\n",
    "\n",
    "%matplotlib inline\n",
    "import matplotlib.pyplot as plots\n",
    "plots.style.use('fivethirtyeight')"
   ]
  },
  {
   "cell_type": "markdown",
   "metadata": {},
   "source": [
    "## Deflategate ##"
   ]
  },
  {
   "cell_type": "code",
   "execution_count": 18,
   "metadata": {},
   "outputs": [
    {
     "data": {
      "text/html": [
       "<table border=\"1\" class=\"dataframe\">\n",
       "    <thead>\n",
       "        <tr>\n",
       "            <th>Team</th> <th>Blakeman</th> <th>Prioleau</th>\n",
       "        </tr>\n",
       "    </thead>\n",
       "    <tbody>\n",
       "        <tr>\n",
       "            <td>Patriots</td> <td>11.5    </td> <td>11.8    </td>\n",
       "        </tr>\n",
       "        <tr>\n",
       "            <td>Patriots</td> <td>10.85   </td> <td>11.2    </td>\n",
       "        </tr>\n",
       "        <tr>\n",
       "            <td>Patriots</td> <td>11.15   </td> <td>11.5    </td>\n",
       "        </tr>\n",
       "        <tr>\n",
       "            <td>Patriots</td> <td>10.7    </td> <td>11      </td>\n",
       "        </tr>\n",
       "        <tr>\n",
       "            <td>Patriots</td> <td>11.1    </td> <td>11.45   </td>\n",
       "        </tr>\n",
       "        <tr>\n",
       "            <td>Patriots</td> <td>11.6    </td> <td>11.95   </td>\n",
       "        </tr>\n",
       "        <tr>\n",
       "            <td>Patriots</td> <td>11.85   </td> <td>12.3    </td>\n",
       "        </tr>\n",
       "        <tr>\n",
       "            <td>Patriots</td> <td>11.1    </td> <td>11.55   </td>\n",
       "        </tr>\n",
       "        <tr>\n",
       "            <td>Patriots</td> <td>10.95   </td> <td>11.35   </td>\n",
       "        </tr>\n",
       "        <tr>\n",
       "            <td>Patriots</td> <td>10.5    </td> <td>10.9    </td>\n",
       "        </tr>\n",
       "        <tr>\n",
       "            <td>Patriots</td> <td>10.9    </td> <td>11.35   </td>\n",
       "        </tr>\n",
       "        <tr>\n",
       "            <td>Colts   </td> <td>12.7    </td> <td>12.35   </td>\n",
       "        </tr>\n",
       "        <tr>\n",
       "            <td>Colts   </td> <td>12.75   </td> <td>12.3    </td>\n",
       "        </tr>\n",
       "        <tr>\n",
       "            <td>Colts   </td> <td>12.5    </td> <td>12.95   </td>\n",
       "        </tr>\n",
       "        <tr>\n",
       "            <td>Colts   </td> <td>12.55   </td> <td>12.15   </td>\n",
       "        </tr>\n",
       "    </tbody>\n",
       "</table>"
      ],
      "text/plain": [
       "<IPython.core.display.HTML object>"
      ]
     },
     "metadata": {},
     "output_type": "display_data"
    }
   ],
   "source": [
    "football = Table.read_table('deflategate.csv')\n",
    "football.show()"
   ]
  },
  {
   "cell_type": "code",
   "execution_count": 19,
   "metadata": {},
   "outputs": [
    {
     "data": {
      "text/html": [
       "<table border=\"1\" class=\"dataframe\">\n",
       "    <thead>\n",
       "        <tr>\n",
       "            <th>Team</th> <th>Combined</th>\n",
       "        </tr>\n",
       "    </thead>\n",
       "    <tbody>\n",
       "        <tr>\n",
       "            <td>Patriots</td> <td>11.65   </td>\n",
       "        </tr>\n",
       "        <tr>\n",
       "            <td>Patriots</td> <td>11.025  </td>\n",
       "        </tr>\n",
       "        <tr>\n",
       "            <td>Patriots</td> <td>11.325  </td>\n",
       "        </tr>\n",
       "        <tr>\n",
       "            <td>Patriots</td> <td>10.85   </td>\n",
       "        </tr>\n",
       "        <tr>\n",
       "            <td>Patriots</td> <td>11.275  </td>\n",
       "        </tr>\n",
       "        <tr>\n",
       "            <td>Patriots</td> <td>11.775  </td>\n",
       "        </tr>\n",
       "        <tr>\n",
       "            <td>Patriots</td> <td>12.075  </td>\n",
       "        </tr>\n",
       "        <tr>\n",
       "            <td>Patriots</td> <td>11.325  </td>\n",
       "        </tr>\n",
       "        <tr>\n",
       "            <td>Patriots</td> <td>11.15   </td>\n",
       "        </tr>\n",
       "        <tr>\n",
       "            <td>Patriots</td> <td>10.7    </td>\n",
       "        </tr>\n",
       "        <tr>\n",
       "            <td>Patriots</td> <td>11.125  </td>\n",
       "        </tr>\n",
       "        <tr>\n",
       "            <td>Colts   </td> <td>12.525  </td>\n",
       "        </tr>\n",
       "        <tr>\n",
       "            <td>Colts   </td> <td>12.525  </td>\n",
       "        </tr>\n",
       "        <tr>\n",
       "            <td>Colts   </td> <td>12.725  </td>\n",
       "        </tr>\n",
       "        <tr>\n",
       "            <td>Colts   </td> <td>12.35   </td>\n",
       "        </tr>\n",
       "    </tbody>\n",
       "</table>"
      ],
      "text/plain": [
       "<IPython.core.display.HTML object>"
      ]
     },
     "metadata": {},
     "output_type": "display_data"
    }
   ],
   "source": [
    "#football= football.with_column('Combined', football.column('Blakeman')+football.column('Prioleau')/2)\n",
    "#football.show()\n",
    "\n",
    "football = football.with_column('Combined', (football.column(1)+football.column(2))/2).drop(1, 2)\n",
    "football.show()"
   ]
  },
  {
   "cell_type": "code",
   "execution_count": 20,
   "metadata": {},
   "outputs": [
    {
     "data": {
      "text/html": [
       "<table border=\"1\" class=\"dataframe\">\n",
       "    <thead>\n",
       "        <tr>\n",
       "            <th>Team</th> <th>Combined</th> <th>Drop</th>\n",
       "        </tr>\n",
       "    </thead>\n",
       "    <tbody>\n",
       "        <tr>\n",
       "            <td>Patriots</td> <td>11.65   </td> <td>0.85 </td>\n",
       "        </tr>\n",
       "        <tr>\n",
       "            <td>Patriots</td> <td>11.025  </td> <td>1.475</td>\n",
       "        </tr>\n",
       "        <tr>\n",
       "            <td>Patriots</td> <td>11.325  </td> <td>1.175</td>\n",
       "        </tr>\n",
       "        <tr>\n",
       "            <td>Patriots</td> <td>10.85   </td> <td>1.65 </td>\n",
       "        </tr>\n",
       "        <tr>\n",
       "            <td>Patriots</td> <td>11.275  </td> <td>1.225</td>\n",
       "        </tr>\n",
       "        <tr>\n",
       "            <td>Patriots</td> <td>11.775  </td> <td>0.725</td>\n",
       "        </tr>\n",
       "        <tr>\n",
       "            <td>Patriots</td> <td>12.075  </td> <td>0.425</td>\n",
       "        </tr>\n",
       "        <tr>\n",
       "            <td>Patriots</td> <td>11.325  </td> <td>1.175</td>\n",
       "        </tr>\n",
       "        <tr>\n",
       "            <td>Patriots</td> <td>11.15   </td> <td>1.35 </td>\n",
       "        </tr>\n",
       "        <tr>\n",
       "            <td>Patriots</td> <td>10.7    </td> <td>1.8  </td>\n",
       "        </tr>\n",
       "        <tr>\n",
       "            <td>Patriots</td> <td>11.125  </td> <td>1.375</td>\n",
       "        </tr>\n",
       "    </tbody>\n",
       "</table>"
      ],
      "text/plain": [
       "<IPython.core.display.HTML object>"
      ]
     },
     "metadata": {},
     "output_type": "display_data"
    }
   ],
   "source": [
    "patriots = football.where('Team', are.containing('Patriots'))\n",
    "patriots = patriots.with_column('Drop', 12.5-patriots.column('Combined'))\n",
    "patriots.show()\n"
   ]
  },
  {
   "cell_type": "code",
   "execution_count": 21,
   "metadata": {},
   "outputs": [
    {
     "data": {
      "text/html": [
       "<table border=\"1\" class=\"dataframe\">\n",
       "    <thead>\n",
       "        <tr>\n",
       "            <th>Team</th> <th>Combined</th> <th>Drop</th>\n",
       "        </tr>\n",
       "    </thead>\n",
       "    <tbody>\n",
       "        <tr>\n",
       "            <td>Colts</td> <td>12.525  </td> <td>0.475</td>\n",
       "        </tr>\n",
       "        <tr>\n",
       "            <td>Colts</td> <td>12.525  </td> <td>0.475</td>\n",
       "        </tr>\n",
       "        <tr>\n",
       "            <td>Colts</td> <td>12.725  </td> <td>0.275</td>\n",
       "        </tr>\n",
       "        <tr>\n",
       "            <td>Colts</td> <td>12.35   </td> <td>0.65 </td>\n",
       "        </tr>\n",
       "    </tbody>\n",
       "</table>"
      ],
      "text/plain": [
       "<IPython.core.display.HTML object>"
      ]
     },
     "metadata": {},
     "output_type": "display_data"
    }
   ],
   "source": [
    "colts = football.where('Team', are.containing('Colts'))\n",
    "colts = colts.with_column('Drop', 13.0 - colts.column('Combined'))\n",
    "colts.show()"
   ]
  },
  {
   "cell_type": "code",
   "execution_count": 22,
   "metadata": {},
   "outputs": [
    {
     "data": {
      "text/plain": [
       "0.733522727272728"
      ]
     },
     "execution_count": 22,
     "metadata": {},
     "output_type": "execute_result"
    }
   ],
   "source": [
    "patriots_mean = patriots.column('Drop').mean()\n",
    "colts_mean= colts.column('Drop').mean()\n",
    "observed_stats = patriots_mean-colts_mean\n",
    "observed_stats"
   ]
  },
  {
   "cell_type": "code",
   "execution_count": 23,
   "metadata": {},
   "outputs": [
    {
     "data": {
      "text/html": [
       "<table border=\"1\" class=\"dataframe\">\n",
       "    <thead>\n",
       "        <tr>\n",
       "            <th>Drop</th>\n",
       "        </tr>\n",
       "    </thead>\n",
       "    <tbody>\n",
       "        <tr>\n",
       "            <td>0.85 </td>\n",
       "        </tr>\n",
       "        <tr>\n",
       "            <td>1.475</td>\n",
       "        </tr>\n",
       "        <tr>\n",
       "            <td>1.175</td>\n",
       "        </tr>\n",
       "        <tr>\n",
       "            <td>1.65 </td>\n",
       "        </tr>\n",
       "        <tr>\n",
       "            <td>1.225</td>\n",
       "        </tr>\n",
       "        <tr>\n",
       "            <td>0.725</td>\n",
       "        </tr>\n",
       "        <tr>\n",
       "            <td>0.425</td>\n",
       "        </tr>\n",
       "        <tr>\n",
       "            <td>1.175</td>\n",
       "        </tr>\n",
       "        <tr>\n",
       "            <td>1.35 </td>\n",
       "        </tr>\n",
       "        <tr>\n",
       "            <td>1.8  </td>\n",
       "        </tr>\n",
       "        <tr>\n",
       "            <td>1.375</td>\n",
       "        </tr>\n",
       "        <tr>\n",
       "            <td>0.475</td>\n",
       "        </tr>\n",
       "        <tr>\n",
       "            <td>0.475</td>\n",
       "        </tr>\n",
       "        <tr>\n",
       "            <td>0.275</td>\n",
       "        </tr>\n",
       "        <tr>\n",
       "            <td>0.65 </td>\n",
       "        </tr>\n",
       "    </tbody>\n",
       "</table>"
      ],
      "text/plain": [
       "<IPython.core.display.HTML object>"
      ]
     },
     "metadata": {},
     "output_type": "display_data"
    }
   ],
   "source": [
    "drops= Table().with_column('Drop', np.append(patriots.column('Drop'),colts.column('Drop')))\n",
    "\n",
    "drops.show()"
   ]
  },
  {
   "cell_type": "code",
   "execution_count": 24,
   "metadata": {},
   "outputs": [
    {
     "data": {
      "text/html": [
       "<table border=\"1\" class=\"dataframe\">\n",
       "    <thead>\n",
       "        <tr>\n",
       "            <th>Drop</th>\n",
       "        </tr>\n",
       "    </thead>\n",
       "    <tbody>\n",
       "        <tr>\n",
       "            <td>0.85 </td>\n",
       "        </tr>\n",
       "        <tr>\n",
       "            <td>0.425</td>\n",
       "        </tr>\n",
       "        <tr>\n",
       "            <td>0.65 </td>\n",
       "        </tr>\n",
       "        <tr>\n",
       "            <td>0.725</td>\n",
       "        </tr>\n",
       "        <tr>\n",
       "            <td>1.65 </td>\n",
       "        </tr>\n",
       "        <tr>\n",
       "            <td>0.275</td>\n",
       "        </tr>\n",
       "        <tr>\n",
       "            <td>1.475</td>\n",
       "        </tr>\n",
       "        <tr>\n",
       "            <td>0.475</td>\n",
       "        </tr>\n",
       "        <tr>\n",
       "            <td>1.35 </td>\n",
       "        </tr>\n",
       "        <tr>\n",
       "            <td>1.175</td>\n",
       "        </tr>\n",
       "        <tr>\n",
       "            <td>1.375</td>\n",
       "        </tr>\n",
       "        <tr>\n",
       "            <td>0.475</td>\n",
       "        </tr>\n",
       "        <tr>\n",
       "            <td>1.8  </td>\n",
       "        </tr>\n",
       "        <tr>\n",
       "            <td>1.225</td>\n",
       "        </tr>\n",
       "        <tr>\n",
       "            <td>1.175</td>\n",
       "        </tr>\n",
       "    </tbody>\n",
       "</table>"
      ],
      "text/plain": [
       "<IPython.core.display.HTML object>"
      ]
     },
     "metadata": {},
     "output_type": "display_data"
    }
   ],
   "source": [
    "#Simulating one replication. Notice no sample, default is the same as the original data\n",
    "#We are shuffling the data\n",
    "drops.sample(with_replacement=False).show()"
   ]
  },
  {
   "cell_type": "code",
   "execution_count": 25,
   "metadata": {},
   "outputs": [
    {
     "data": {
      "text/plain": [
       "0.06022727272727235"
      ]
     },
     "execution_count": 25,
     "metadata": {},
     "output_type": "execute_result"
    }
   ],
   "source": [
    "#Now take the mean of the first 11 and subtract from last 4\n",
    "shuffle = drops.sample(with_replacement = False)\n",
    "patriots_new_mean = shuffle.take(np.arange(11)).column('Drop').mean()\n",
    "colts_new_mean = shuffle.take(np.arange(11,15)).column('Drop').mean()\n",
    "simulated_diff = patriots_new_mean - colts_new_mean\n",
    "simulated_diff"
   ]
  },
  {
   "cell_type": "code",
   "execution_count": 31,
   "metadata": {},
   "outputs": [],
   "source": [
    "#Now lets just to this again and again\n",
    "\n",
    "stats = make_array()\n",
    "repetitions = 10000\n",
    "\n",
    "for i in np.arange(repetitions):\n",
    "    shuffle = drops.sample(with_replacement = False)\n",
    "    patriots_new_mean = shuffle.take(np.arange(11)).column('Drop').mean()\n",
    "    colts_new_mean = shuffle.take(np.arange(11,15)).column('Drop').mean()\n",
    "    simulated_diff = patriots_new_mean - colts_new_mean\n",
    "    stats = np.append(stats, simulated_diff)\n",
    "    \n"
   ]
  },
  {
   "cell_type": "code",
   "execution_count": 32,
   "metadata": {},
   "outputs": [
    {
     "data": {
      "text/plain": [
       "<matplotlib.collections.PathCollection at 0x7f9036851070>"
      ]
     },
     "execution_count": 32,
     "metadata": {},
     "output_type": "execute_result"
    },
    {
     "data": {
      "image/png": "[encoded data removed]",
      "text/plain": [
       "<Figure size 432x288 with 1 Axes>"
      ]
     },
     "metadata": {},
     "output_type": "display_data"
    }
   ],
   "source": [
    "Results = Table().with_column('Simulated Differences', stats)\n",
    "Results.hist()\n",
    "plots.scatter(observed_stats, 0, color = 'red', s = 40)"
   ]
  },
  {
   "cell_type": "markdown",
   "metadata": {},
   "source": [
    "This is called a permutation test since we have no assumptions while running this test. \n",
    "The above histogram gives the empirical distribution of the test statistics. \n",
    "Since our observed test statistic value lies in the tail of the distribution. we will reject null hypothesis."
   ]
  },
  {
   "cell_type": "code",
   "execution_count": 28,
   "metadata": {},
   "outputs": [],
   "source": [
    "#calculate our p value"
   ]
  },
  {
   "cell_type": "code",
   "execution_count": 29,
   "metadata": {},
   "outputs": [
    {
     "name": "stdout",
     "output_type": "stream",
     "text": [
      "Empirical p-value 0.0024\n"
     ]
    }
   ],
   "source": [
    "empirical_p = np.count_nonzero(stats>observed_stats)/repetitions\n",
    "print('Empirical p-value', empirical_p)"
   ]
  },
  {
   "cell_type": "code",
   "execution_count": null,
   "metadata": {},
   "outputs": [],
   "source": []
  }
 ],
 "metadata": {
  "kernelspec": {
   "display_name": "Python 3 (ipykernel)",
   "language": "python",
   "name": "python3"
  },
  "language_info": {
   "codemirror_mode": {
    "name": "ipython",
    "version": 3
   },
   "file_extension": ".py",
   "mimetype": "text/x-python",
   "name": "python",
   "nbconvert_exporter": "python",
   "pygments_lexer": "ipython3",
   "version": "3.9.7"
  }
 },
 "nbformat": 4,
 "nbformat_minor": 1
}
