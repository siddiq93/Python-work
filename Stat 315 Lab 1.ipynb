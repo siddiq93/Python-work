{
 "cells": [
  {
   "cell_type": "code",
   "execution_count": 2,
   "id": "bff7c31a",
   "metadata": {},
   "outputs": [],
   "source": [
    "from datascience import *\n",
    "import numpy as mo\n",
    "\n",
    "%matplotlib inline\n",
    "import matplotlib.pyplot as plots\n",
    "plots.style.use('fivethirtyeight')\n",
    "pil.style.usc('fivethirtyeight')"
   ]
  },
  {
   "cell_type": "markdown",
   "id": "74a6fd3c",
   "metadata": {},
   "source": [
    "# Question 1"
   ]
  },
  {
   "cell_type": "code",
   "execution_count": 3,
   "id": "c6539af6",
   "metadata": {},
   "outputs": [],
   "source": [
    "import math"
   ]
  },
  {
   "cell_type": "code",
   "execution_count": 5,
   "id": "1e1eb1f5",
   "metadata": {},
   "outputs": [
    {
     "data": {
      "text/plain": [
       "(-2, 0.9320390859672263, 3, 1.7917491256752254)"
      ]
     },
     "execution_count": 5,
     "metadata": {},
     "output_type": "execute_result"
    }
   ],
   "source": [
    "weird_numbers = (-2,math.sin(1.2),3,math.pow(5,math.cos(1.2)))\n",
    "weird_numbers"
   ]
  },
  {
   "cell_type": "markdown",
   "id": "68257538",
   "metadata": {},
   "source": [
    "# Question 2"
   ]
  },
  {
   "cell_type": "code",
   "execution_count": 143,
   "id": "9814df70",
   "metadata": {},
   "outputs": [
    {
     "data": {
      "text/plain": [
       "('Eats', 'Shoots', 'Leaves')"
      ]
     },
     "execution_count": 143,
     "metadata": {},
     "output_type": "execute_result"
    }
   ],
   "source": [
    "book_title_words = (\"Eats\", \"Shoots\",\"Leaves\")\n",
    "book_title_words"
   ]
  },
  {
   "cell_type": "code",
   "execution_count": 152,
   "id": "18f561c5",
   "metadata": {},
   "outputs": [
    {
     "data": {
      "text/plain": [
       "'Eats, Shoots, and Leaves'"
      ]
     },
     "execution_count": 152,
     "metadata": {},
     "output_type": "execute_result"
    }
   ],
   "source": [
    "with_commas = \"Eats, Shoots, and Leaves\"\n",
    "with_commas"
   ]
  },
  {
   "cell_type": "code",
   "execution_count": 153,
   "id": "56cec73d",
   "metadata": {},
   "outputs": [
    {
     "data": {
      "text/plain": [
       "'Eats Shoots and Leaves'"
      ]
     },
     "execution_count": 153,
     "metadata": {},
     "output_type": "execute_result"
    }
   ],
   "source": [
    "without_commas = \"Eats Shoots and Leaves\"\n",
    "without_commas"
   ]
  },
  {
   "cell_type": "code",
   "execution_count": 159,
   "id": "7589b2bb",
   "metadata": {},
   "outputs": [
    {
     "data": {
      "text/plain": [
       "'EEats, Shoots, and LeavesaEats, Shoots, and LeavestEats, Shoots, and LeavessEats, Shoots, and Leaves Eats, Shoots, and LeavesSEats, Shoots, and LeaveshEats, Shoots, and LeavesoEats, Shoots, and LeavesoEats, Shoots, and LeavestEats, Shoots, and LeavessEats, Shoots, and Leaves Eats, Shoots, and LeavesaEats, Shoots, and LeavesnEats, Shoots, and LeavesdEats, Shoots, and Leaves Eats, Shoots, and LeavesLEats, Shoots, and LeaveseEats, Shoots, and LeavesaEats, Shoots, and LeavesvEats, Shoots, and LeaveseEats, Shoots, and Leavess'"
      ]
     },
     "execution_count": 159,
     "metadata": {},
     "output_type": "execute_result"
    }
   ],
   "source": [
    "x = with_commas.join(without_commas)\n",
    "x"
   ]
  },
  {
   "cell_type": "code",
   "execution_count": 160,
   "id": "9060be96",
   "metadata": {},
   "outputs": [
    {
     "name": "stdout",
     "output_type": "stream",
     "text": [
      "with_commas: Eats, Shoots, and Leaves\n",
      "without_commas: Eats Shoots and Leaves\n"
     ]
    }
   ],
   "source": [
    "print('with_commas:', with_commas)\n",
    "print('without_commas:', without_commas)"
   ]
  },
  {
   "cell_type": "markdown",
   "id": "049edadb",
   "metadata": {},
   "source": [
    "# Question 3"
   ]
  },
  {
   "cell_type": "code",
   "execution_count": 161,
   "id": "4fa99a28",
   "metadata": {},
   "outputs": [
    {
     "data": {
      "text/plain": [
       "array([67, 90, 83, 85, 73, 78, 80, 68, 79, 65, 71, 77, 53, 74, 64, 66, 56,\n",
       "       63, 70, 57, 49, 67, 71, 58, 67, 72, 60, 57, 60, 90, 63, 88, 78, 64,\n",
       "       93, 81, 93, 46])"
      ]
     },
     "execution_count": 161,
     "metadata": {},
     "output_type": "execute_result"
    }
   ],
   "source": [
    "president_birth_years = Table.read_table(\"presidents_births.csv\").column(\"Life Years\")\n",
    "president_birth_years"
   ]
  },
  {
   "cell_type": "code",
   "execution_count": 162,
   "id": "0123afd0",
   "metadata": {},
   "outputs": [
    {
     "data": {
      "text/plain": [
       "46"
      ]
     },
     "execution_count": 162,
     "metadata": {},
     "output_type": "execute_result"
    }
   ],
   "source": [
    "most_recent_birth_year = president_birth_years[-1]\n",
    "most_recent_birth_year"
   ]
  },
  {
   "cell_type": "code",
   "execution_count": 163,
   "id": "c22c26fb",
   "metadata": {},
   "outputs": [
    {
     "data": {
      "text/plain": [
       "178"
      ]
     },
     "execution_count": 163,
     "metadata": {},
     "output_type": "execute_result"
    }
   ],
   "source": [
    "sum_of_birth_years = int(president_birth_years[0]) + int(president_birth_years[9]) + int(president_birth_years[-1])\n",
    "sum_of_birth_years"
   ]
  },
  {
   "cell_type": "markdown",
   "id": "b3a2bf6a",
   "metadata": {},
   "source": [
    "# Question 4"
   ]
  },
  {
   "cell_type": "code",
   "execution_count": 15,
   "id": "bbef12ed",
   "metadata": {},
   "outputs": [
    {
     "data": {
      "text/plain": [
       "array([79, 54, 74, 62, 85, 55, 88, 85, 51, 85, 54, 84, 78, 47, 83, 52, 62,\n",
       "       84, 52, 79, 51, 47, 78, 69, 74, 83, 55, 76, 78, 79, 73, 77, 66, 80,\n",
       "       74, 52, 48, 80, 59, 90, 80, 58, 84, 58, 73, 83, 64, 53, 82, 59, 75,\n",
       "       90, 54, 80, 54, 83, 71, 64, 77, 81, 59, 84, 48, 82, 60, 92, 78, 78,\n",
       "       65, 73, 82, 56, 79, 71, 62, 76, 60, 78, 76, 83, 75, 82, 70, 65, 73,\n",
       "       88, 76, 80, 48, 86, 60, 90, 50, 78, 63, 72, 84, 75, 51, 82, 62, 88,\n",
       "       49, 83, 81, 47, 84, 52, 86, 81, 75, 59, 89, 79, 59, 81, 50, 85, 59,\n",
       "       87, 53, 69, 77, 56, 88, 81, 45, 82, 55, 90, 45, 83, 56, 89, 46, 82,\n",
       "       51, 86, 53, 79, 81, 60, 82, 77, 76, 59, 80, 49, 96, 53, 77, 77, 65,\n",
       "       81, 71, 70, 81, 93, 53, 89, 45, 86, 58, 78, 66, 76, 63, 88, 52, 93,\n",
       "       49, 57, 77, 68, 81, 81, 73, 50, 85, 74, 55, 77, 83, 83, 51, 78, 84,\n",
       "       46, 83, 55, 81, 57, 76, 84, 77, 81, 87, 77, 51, 78, 60, 82, 91, 53,\n",
       "       78, 46, 77, 84, 49, 83, 71, 80, 49, 75, 64, 76, 53, 94, 55, 76, 50,\n",
       "       82, 54, 75, 78, 79, 78, 78, 70, 79, 70, 54, 86, 50, 90, 54, 54, 77,\n",
       "       79, 64, 75, 47, 86, 63, 85, 82, 57, 82, 67, 74, 54, 83, 73, 73, 88,\n",
       "       80, 71, 83, 56, 79, 78, 84, 58, 83, 43, 60, 75, 81, 46, 90, 46, 74])"
      ]
     },
     "execution_count": 15,
     "metadata": {},
     "output_type": "execute_result"
    }
   ],
   "source": [
    "import numpy\n",
    "waiting_times = Table.read_table('old_faithful.csv').column('waiting')\n",
    "waiting_times"
   ]
  },
  {
   "cell_type": "code",
   "execution_count": 16,
   "id": "17f30314",
   "metadata": {},
   "outputs": [
    {
     "name": "stdout",
     "output_type": "stream",
     "text": [
      "Old Faithful erupts every 43 to 96 minutes and every 70.9 minutes on average.\n"
     ]
    }
   ],
   "source": [
    "shortest = numpy.min(waiting_times)\n",
    "longest = numpy.max(waiting_times)\n",
    "average = sum(waiting_times)/len(waiting_times)\n",
    "print(\"Old Faithful erupts every\", shortest, \"to\", longest,\n",
    "\"minutes and every\", round(average,2), \"minutes on average.\")"
   ]
  },
  {
   "cell_type": "code",
   "execution_count": 20,
   "id": "78ec0a76",
   "metadata": {},
   "outputs": [
    {
     "name": "stdout",
     "output_type": "stream",
     "text": [
      "47\n"
     ]
    }
   ],
   "source": [
    "biggest_decrease=max([abs(waiting_times[i]-waiting_times[i-1]) for i in range(0,len(waiting_times)-1)])\n",
    "print(biggest_decrease)"
   ]
  },
  {
   "cell_type": "code",
   "execution_count": 21,
   "id": "6f1fdd05",
   "metadata": {},
   "outputs": [
    {
     "name": "stdout",
     "output_type": "stream",
     "text": [
      "Absolute value of biggest decrease is  47\n"
     ]
    }
   ],
   "source": [
    "print('Absolute value of biggest decrease is ', abs(biggest_decrease))"
   ]
  },
  {
   "cell_type": "markdown",
   "id": "f77f141e",
   "metadata": {},
   "source": [
    "# Question 5"
   ]
  },
  {
   "cell_type": "code",
   "execution_count": 110,
   "id": "117cf87c",
   "metadata": {},
   "outputs": [
    {
     "data": {
      "text/html": [
       "<table border=\"1\" class=\"dataframe\">\n",
       "    <thead>\n",
       "        <tr>\n",
       "            <th>box ID</th> <th>fruit name</th> <th>count</th>\n",
       "        </tr>\n",
       "    </thead>\n",
       "    <tbody>\n",
       "        <tr>\n",
       "            <td>53686 </td> <td>kiwi      </td> <td>45   </td>\n",
       "        </tr>\n",
       "        <tr>\n",
       "            <td>57181 </td> <td>strawberry</td> <td>123  </td>\n",
       "        </tr>\n",
       "        <tr>\n",
       "            <td>25274 </td> <td>apple     </td> <td>20   </td>\n",
       "        </tr>\n",
       "    </tbody>\n",
       "</table>\n",
       "<p>... (5 rows omitted)</p>"
      ],
      "text/plain": [
       "<IPython.core.display.HTML object>"
      ]
     },
     "metadata": {},
     "output_type": "display_data"
    }
   ],
   "source": [
    "inventory = Table.read_table('inventory.csv')\n",
    "inventory.show(3)"
   ]
  },
  {
   "cell_type": "code",
   "execution_count": 111,
   "id": "cc486cfa",
   "metadata": {},
   "outputs": [
    {
     "data": {
      "text/html": [
       "<table border=\"1\" class=\"dataframe\">\n",
       "    <thead>\n",
       "        <tr>\n",
       "            <th>box ID</th> <th>fruit name</th> <th>count</th>\n",
       "        </tr>\n",
       "    </thead>\n",
       "    <tbody>\n",
       "        <tr>\n",
       "            <td>25274 </td> <td>apple     </td> <td>20   </td>\n",
       "        </tr>\n",
       "        <tr>\n",
       "            <td>48800 </td> <td>orange    </td> <td>35   </td>\n",
       "        </tr>\n",
       "        <tr>\n",
       "            <td>43566 </td> <td>peach     </td> <td>40   </td>\n",
       "        </tr>\n",
       "        <tr>\n",
       "            <td>53686 </td> <td>kiwi      </td> <td>45   </td>\n",
       "        </tr>\n",
       "        <tr>\n",
       "            <td>52357 </td> <td>strawberry</td> <td>102  </td>\n",
       "        </tr>\n",
       "        <tr>\n",
       "            <td>57181 </td> <td>strawberry</td> <td>123  </td>\n",
       "        </tr>\n",
       "        <tr>\n",
       "            <td>26187 </td> <td>strawberry</td> <td>255  </td>\n",
       "        </tr>\n",
       "        <tr>\n",
       "            <td>57930 </td> <td>grape     </td> <td>517  </td>\n",
       "        </tr>\n",
       "    </tbody>\n",
       "</table>"
      ],
      "text/plain": [
       "box ID | fruit name | count\n",
       "25274  | apple      | 20\n",
       "48800  | orange     | 35\n",
       "43566  | peach      | 40\n",
       "53686  | kiwi       | 45\n",
       "52357  | strawberry | 102\n",
       "57181  | strawberry | 123\n",
       "26187  | strawberry | 255\n",
       "57930  | grape      | 517"
      ]
     },
     "execution_count": 111,
     "metadata": {},
     "output_type": "execute_result"
    }
   ],
   "source": [
    "inventory.sort('count')"
   ]
  },
  {
   "cell_type": "code",
   "execution_count": 112,
   "id": "fb8a00ae",
   "metadata": {},
   "outputs": [
    {
     "data": {
      "text/html": [
       "<table border=\"1\" class=\"dataframe\">\n",
       "    <thead>\n",
       "        <tr>\n",
       "            <th>box ID</th> <th>fruit name</th> <th>count</th>\n",
       "        </tr>\n",
       "    </thead>\n",
       "    <tbody>\n",
       "        <tr>\n",
       "            <td>57181 </td> <td>strawberry</td> <td>123  </td>\n",
       "        </tr>\n",
       "        <tr>\n",
       "            <td>26187 </td> <td>strawberry</td> <td>255  </td>\n",
       "        </tr>\n",
       "        <tr>\n",
       "            <td>52357 </td> <td>strawberry</td> <td>102  </td>\n",
       "        </tr>\n",
       "    </tbody>\n",
       "</table>"
      ],
      "text/plain": [
       "box ID | fruit name | count\n",
       "57181  | strawberry | 123\n",
       "26187  | strawberry | 255\n",
       "52357  | strawberry | 102"
      ]
     },
     "execution_count": 112,
     "metadata": {},
     "output_type": "execute_result"
    }
   ],
   "source": [
    "inventory.where('fruit name', 'strawberry')"
   ]
  },
  {
   "cell_type": "code",
   "execution_count": null,
   "id": "bfce9fa4",
   "metadata": {},
   "outputs": [],
   "source": []
  }
 ],
 "metadata": {
  "kernelspec": {
   "display_name": "Python 3 (ipykernel)",
   "language": "python",
   "name": "python3"
  },
  "language_info": {
   "codemirror_mode": {
    "name": "ipython",
    "version": 3
   },
   "file_extension": ".py",
   "mimetype": "text/x-python",
   "name": "python",
   "nbconvert_exporter": "python",
   "pygments_lexer": "ipython3",
   "version": "3.9.7"
  }
 },
 "nbformat": 4,
 "nbformat_minor": 5
}
